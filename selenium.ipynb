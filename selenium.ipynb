{
 "cells": [
  {
   "cell_type": "code",
   "execution_count": 140,
   "metadata": {},
   "outputs": [],
   "source": [
    "from selenium import webdriver\n",
    "from selenium.webdriver.common.by import By\n",
    "from selenium.webdriver.support.wait import WebDriverWait\n",
    "from selenium.webdriver.support import expected_conditions as EC\n",
    "import csv\n",
    "import time\n",
    "import re"
   ]
  },
  {
   "cell_type": "code",
   "execution_count": 123,
   "metadata": {},
   "outputs": [
    {
     "name": "stdout",
     "output_type": "stream",
     "text": [
      "<selenium.webdriver.remote.webelement.WebElement (session=\"79238a0b-480f-440d-a960-10e70e487cc4\", element=\"e026595f-7119-4556-860d-a0776a69576d\")>\n"
     ]
    }
   ],
   "source": [
    "\n",
    "driver = webdriver.Firefox()\n",
    "driver.get('https://en.wikipedia.org/wiki/Demographics_of_Indonesia')\n",
    "\n",
    "\n",
    "header = driver.find_element(By.CSS_SELECTOR,'table.wikitable:nth-child(16)')"
   ]
  },
  {
   "cell_type": "code",
   "execution_count": 127,
   "metadata": {},
   "outputs": [],
   "source": [
    "data = header.text.split('\\n')[6:]"
   ]
  },
  {
   "cell_type": "code",
   "execution_count": 175,
   "metadata": {},
   "outputs": [
    {
     "data": {
      "text/plain": [
       "[['Aceh', '4494410', '23.6', '2.79', '4496570'],\n",
       " ['North Sumatra', '12982204', '42.4', '3.01', '13923262'],\n",
       " ['West Sumatra', '4846909', '29.0', '2.91', '5190577'],\n",
       " ['Riau', '5538367', '43.7', '2.82', '6330941'],\n",
       " ['Jambi', '3092265', '28.3', '2.51', '3397164'],\n",
       " ['South Sumatra', '7450394', '34.4', '2.56', '8043042'],\n",
       " ['Bengkulu', '1715518', '29.4', '2.51', '1872136'],\n",
       " ['Lampung', '7608405', '21.0', '2.45', '8109601'],\n",
       " ['Bangka Belitung Islands', '1223296', '43.0', '2.54', '1370331'],\n",
       " ['Riau Islands', '1679163', '67.4', '2.38', '1968313'],\n",
       " ['Banten', '10632166', '52.2', '2.35', '11934373'],\n",
       " ['Jakarta', '9607787', '100.0', '1.82', '10154134'],\n",
       " ['West Java', '43053732', '50.3', '2.43', '46668214'],\n",
       " ['Central Java', '32382657', '40.4', '2.20', '33753023'],\n",
       " ['Yogyakarta', '3457491', '57.7', '1.94', '3675768'],\n",
       " ['East Java', '37476757', '40.9', '2.00', '38828061'],\n",
       " ['Bali', '3890757', '49.8', '2.13', '4148588'],\n",
       " ['West Nusa Tenggara', '4500212', '34.8', '2.59', '4830118'],\n",
       " ['East Nusa Tenggara', '4683827', '15.9', '3.82', '5112760'],\n",
       " ['West Kalimantan', '4395983', '25.1', '2.64', '4783209'],\n",
       " ['Central Kalimantan', '2212089', '27.5', '2.56', '2490178'],\n",
       " ['South Kalimantan', '3626616', '36.3', '2.35', '3984315'],\n",
       " ['East Kalimantan', '3028487', '57.6', '2.61', '3422676'],\n",
       " ['North Kalimantan', '524656', '639639'],\n",
       " ['North Sulawesi', '2270596', '37.0', '2.43', '2409921'],\n",
       " ['Gorontalo', '1040164', '25.5', '2.76', '1131670'],\n",
       " ['Central Sulawesi', '2635009', '19.7', '2.94', '2872857'],\n",
       " ['South Sulawesi', '8034776', '29.4', '2.55', '8512608'],\n",
       " ['Southeast Sulawesi', '2232586', '20.8', '3.20', '2495248'],\n",
       " ['West Sulawesi', '1158651', '--', '3.33', '1279994'],\n",
       " ['Maluku', '1533506', '25.9', '3.56', '1683856'],\n",
       " ['North Maluku', '1038087', '29.5', '3.35', '1160275'],\n",
       " ['Papua', '2833381', '22.2', '2.87', '3143088'],\n",
       " ['West Papua', '760422', '--', '3.18', '868819']]"
      ]
     },
     "execution_count": 175,
     "metadata": {},
     "output_type": "execute_result"
    }
   ],
   "source": [
    "data_trans2 = []\n",
    "for d in data[:-1]:\n",
    "    pattern_prov = r'^.*?(?=\\d)'\n",
    "    pattern_rest=r'\\d.*'\n",
    "    pop = re.findall(pattern_prov, d)[0].strip()\n",
    "    rest = re.findall(pattern_rest,d)[0]\n",
    "    rest = rest.replace(' ','_').replace(',','').split('_')\n",
    "    data_trans2.append([pop]+rest)"
   ]
  },
  {
   "cell_type": "code",
   "execution_count": 176,
   "metadata": {},
   "outputs": [],
   "source": [
    "with open('population.csv','w') as csvfile:\n",
    "    csvwriter = csv.writer(csvfile)\n",
    "    csvwriter.writerow(['province','population_2010_cens','urban_2010_percent','tota_fertility_rate','population_2015_cens'])\n",
    "    for row in data_trans2:\n",
    "        csvwriter.writerow(row)"
   ]
  },
  {
   "cell_type": "code",
   "execution_count": 21,
   "metadata": {},
   "outputs": [
    {
     "ename": "NoSuchElementException",
     "evalue": "Message: Unable to locate element: thead; For documentation on this error, please visit: https://www.selenium.dev/documentation/webdriver/troubleshooting/errors#no-such-element-exception\nStacktrace:\nRemoteError@chrome://remote/content/shared/RemoteError.sys.mjs:8:8\nWebDriverError@chrome://remote/content/shared/webdriver/Errors.sys.mjs:189:5\nNoSuchElementError@chrome://remote/content/shared/webdriver/Errors.sys.mjs:507:5\ndom.find/</<@chrome://remote/content/shared/DOM.sys.mjs:132:16\n",
     "output_type": "error",
     "traceback": [
      "\u001b[0;31m---------------------------------------------------------------------------\u001b[0m",
      "\u001b[0;31mNoSuchElementException\u001b[0m                    Traceback (most recent call last)",
      "\u001b[1;32m/home/aditya/Coding/Jupyter Notebook/selenium/selenium.ipynb Cell 3\u001b[0m line \u001b[0;36m3\n\u001b[1;32m      <a href='vscode-notebook-cell:/home/aditya/Coding/Jupyter%20Notebook/selenium/selenium.ipynb#W3sZmlsZQ%3D%3D?line=0'>1</a>\u001b[0m \u001b[39mwith\u001b[39;00m webdriver\u001b[39m.\u001b[39mFirefox() \u001b[39mas\u001b[39;00m driver:\n\u001b[1;32m      <a href='vscode-notebook-cell:/home/aditya/Coding/Jupyter%20Notebook/selenium/selenium.ipynb#W3sZmlsZQ%3D%3D?line=1'>2</a>\u001b[0m     driver\u001b[39m.\u001b[39mget(\u001b[39m'\u001b[39m\u001b[39mhttps://en.wikipedia.org/wiki/Demographics_of_Indonesia\u001b[39m\u001b[39m'\u001b[39m)\n\u001b[0;32m----> <a href='vscode-notebook-cell:/home/aditya/Coding/Jupyter%20Notebook/selenium/selenium.ipynb#W3sZmlsZQ%3D%3D?line=2'>3</a>\u001b[0m     header \u001b[39m=\u001b[39m driver\u001b[39m.\u001b[39;49mfind_element(By\u001b[39m.\u001b[39;49mTAG_NAME,\u001b[39m'\u001b[39;49m\u001b[39mthead\u001b[39;49m\u001b[39m'\u001b[39;49m)\n\u001b[1;32m      <a href='vscode-notebook-cell:/home/aditya/Coding/Jupyter%20Notebook/selenium/selenium.ipynb#W3sZmlsZQ%3D%3D?line=3'>4</a>\u001b[0m     \u001b[39mprint\u001b[39m(header)\n",
      "File \u001b[0;32m~/Coding/Jupyter Notebook/jupenv/lib/python3.8/site-packages/selenium/webdriver/remote/webdriver.py:738\u001b[0m, in \u001b[0;36mWebDriver.find_element\u001b[0;34m(self, by, value)\u001b[0m\n\u001b[1;32m    735\u001b[0m     by \u001b[39m=\u001b[39m By\u001b[39m.\u001b[39mCSS_SELECTOR\n\u001b[1;32m    736\u001b[0m     value \u001b[39m=\u001b[39m \u001b[39mf\u001b[39m\u001b[39m'\u001b[39m\u001b[39m[name=\u001b[39m\u001b[39m\"\u001b[39m\u001b[39m{\u001b[39;00mvalue\u001b[39m}\u001b[39;00m\u001b[39m\"\u001b[39m\u001b[39m]\u001b[39m\u001b[39m'\u001b[39m\n\u001b[0;32m--> 738\u001b[0m \u001b[39mreturn\u001b[39;00m \u001b[39mself\u001b[39;49m\u001b[39m.\u001b[39;49mexecute(Command\u001b[39m.\u001b[39;49mFIND_ELEMENT, {\u001b[39m\"\u001b[39;49m\u001b[39musing\u001b[39;49m\u001b[39m\"\u001b[39;49m: by, \u001b[39m\"\u001b[39;49m\u001b[39mvalue\u001b[39;49m\u001b[39m\"\u001b[39;49m: value})[\u001b[39m\"\u001b[39m\u001b[39mvalue\u001b[39m\u001b[39m\"\u001b[39m]\n",
      "File \u001b[0;32m~/Coding/Jupyter Notebook/jupenv/lib/python3.8/site-packages/selenium/webdriver/remote/webdriver.py:344\u001b[0m, in \u001b[0;36mWebDriver.execute\u001b[0;34m(self, driver_command, params)\u001b[0m\n\u001b[1;32m    342\u001b[0m response \u001b[39m=\u001b[39m \u001b[39mself\u001b[39m\u001b[39m.\u001b[39mcommand_executor\u001b[39m.\u001b[39mexecute(driver_command, params)\n\u001b[1;32m    343\u001b[0m \u001b[39mif\u001b[39;00m response:\n\u001b[0;32m--> 344\u001b[0m     \u001b[39mself\u001b[39;49m\u001b[39m.\u001b[39;49merror_handler\u001b[39m.\u001b[39;49mcheck_response(response)\n\u001b[1;32m    345\u001b[0m     response[\u001b[39m\"\u001b[39m\u001b[39mvalue\u001b[39m\u001b[39m\"\u001b[39m] \u001b[39m=\u001b[39m \u001b[39mself\u001b[39m\u001b[39m.\u001b[39m_unwrap_value(response\u001b[39m.\u001b[39mget(\u001b[39m\"\u001b[39m\u001b[39mvalue\u001b[39m\u001b[39m\"\u001b[39m, \u001b[39mNone\u001b[39;00m))\n\u001b[1;32m    346\u001b[0m     \u001b[39mreturn\u001b[39;00m response\n",
      "File \u001b[0;32m~/Coding/Jupyter Notebook/jupenv/lib/python3.8/site-packages/selenium/webdriver/remote/errorhandler.py:229\u001b[0m, in \u001b[0;36mErrorHandler.check_response\u001b[0;34m(self, response)\u001b[0m\n\u001b[1;32m    227\u001b[0m         alert_text \u001b[39m=\u001b[39m value[\u001b[39m\"\u001b[39m\u001b[39malert\u001b[39m\u001b[39m\"\u001b[39m]\u001b[39m.\u001b[39mget(\u001b[39m\"\u001b[39m\u001b[39mtext\u001b[39m\u001b[39m\"\u001b[39m)\n\u001b[1;32m    228\u001b[0m     \u001b[39mraise\u001b[39;00m exception_class(message, screen, stacktrace, alert_text)  \u001b[39m# type: ignore[call-arg]  # mypy is not smart enough here\u001b[39;00m\n\u001b[0;32m--> 229\u001b[0m \u001b[39mraise\u001b[39;00m exception_class(message, screen, stacktrace)\n",
      "\u001b[0;31mNoSuchElementException\u001b[0m: Message: Unable to locate element: thead; For documentation on this error, please visit: https://www.selenium.dev/documentation/webdriver/troubleshooting/errors#no-such-element-exception\nStacktrace:\nRemoteError@chrome://remote/content/shared/RemoteError.sys.mjs:8:8\nWebDriverError@chrome://remote/content/shared/webdriver/Errors.sys.mjs:189:5\nNoSuchElementError@chrome://remote/content/shared/webdriver/Errors.sys.mjs:507:5\ndom.find/</<@chrome://remote/content/shared/DOM.sys.mjs:132:16\n"
     ]
    }
   ],
   "source": [
    "driver.quit()"
   ]
  }
 ],
 "metadata": {
  "kernelspec": {
   "display_name": "jupenv",
   "language": "python",
   "name": "python3"
  },
  "language_info": {
   "codemirror_mode": {
    "name": "ipython",
    "version": 3
   },
   "file_extension": ".py",
   "mimetype": "text/x-python",
   "name": "python",
   "nbconvert_exporter": "python",
   "pygments_lexer": "ipython3",
   "version": "3.8.18"
  }
 },
 "nbformat": 4,
 "nbformat_minor": 2
}
